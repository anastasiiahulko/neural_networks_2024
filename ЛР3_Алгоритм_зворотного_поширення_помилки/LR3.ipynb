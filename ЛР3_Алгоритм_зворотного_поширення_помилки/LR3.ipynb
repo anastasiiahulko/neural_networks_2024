{
 "cells": [
  {
   "cell_type": "code",
   "execution_count": 41,
   "id": "242f7730-0808-4b15-95dc-1896efbe887d",
   "metadata": {},
   "outputs": [],
   "source": [
    "import numpy as np\n",
    "import matplotlib.pyplot as plt"
   ]
  },
  {
   "cell_type": "code",
   "execution_count": 43,
   "id": "ac26cc5f-887d-43f9-8064-250726b1471e",
   "metadata": {},
   "outputs": [],
   "source": [
    "def activation(x):\n",
    "    return 1 / (1 + np.exp(-x))\n",
    "\n",
    "def derivative(x):\n",
    "    return x * (1 - x)"
   ]
  },
  {
   "cell_type": "code",
   "execution_count": 45,
   "id": "1914f51c-1985-47b7-b2c7-cd307ca43c62",
   "metadata": {},
   "outputs": [],
   "source": [
    "def forward(X, w1, w2, w3):\n",
    "    hidden_layer1 = activation(np.dot(X, w1))\n",
    "    hidden_layer2 = activation(np.dot(hidden_layer1, w2))\n",
    "    out_layer = activation(np.dot(hidden_layer2, w3))\n",
    "    return hidden_layer1, hidden_layer2, out_layer\n",
    "\n",
    "def backforward(X, y_true, w1, w2, w3, epoch, lr):\n",
    "    errors = []\n",
    "    for _ in range(epoch):\n",
    "        hidden1, hidden2, output = forward(X, w1, w2, w3)\n",
    "\n",
    "        err = y_true - output\n",
    "        errors.append(np.mean(np.abs(err)))\n",
    "\n",
    "        delta_out = err * derivative(output)\n",
    "        delta_hidden2 = np.dot(delta_out, w3.T) * derivative(hidden2)\n",
    "        delta_hidden1 = np.dot(delta_hidden2, w2.T) * derivative(hidden1)\n",
    "\n",
    "        w3 += lr * np.dot(hidden2.T, delta_out)\n",
    "        w2 += lr * np.dot(hidden1.T, delta_hidden2)\n",
    "        w1 += lr * np.dot(X.T, delta_hidden1)\n",
    "\n",
    "    print(\"\\nЗначення помилки:\", np.mean(np.abs(errors)), \"\\n\")\n",
    "    plt.plot(errors, color='r')\n",
    "    plt.xlabel(\"Епохи\")\n",
    "    plt.ylabel(\"Помилка\")\n",
    "    plt.title(\"Графік помилки\")\n",
    "    plt.show()\n",
    "    return w1, w2, w3"
   ]
  },
  {
   "cell_type": "code",
   "execution_count": 47,
   "id": "7cf5efd9-9595-45ef-a5de-6f47962dcb1e",
   "metadata": {},
   "outputs": [
    {
     "name": "stdout",
     "output_type": "stream",
     "text": [
      "\n",
      "Початкові ваги:\n",
      " W1:\n",
      " [[-0.18652373 -0.24375587 -0.38076823]\n",
      " [ 0.00169331 -0.02767107  0.16810774]\n",
      " [ 0.19021544  0.04910008  0.07967245]] \n",
      "W2:\n",
      " [[-0.42722141  0.19987463]\n",
      " [ 0.32502451 -0.18264359]\n",
      " [ 0.38029359 -0.24008348]] \n",
      "W3:\n",
      " [[0.47782208]\n",
      " [0.15329097]]\n",
      "\n",
      "Значення помилки: 0.12942048568533607 \n",
      "\n"
     ]
    },
    {
     "data": {
      "image/png": "[encoded data removed]",
      "text/plain": [
       "<Figure size 640x480 with 1 Axes>"
      ]
     },
     "metadata": {},
     "output_type": "display_data"
    },
    {
     "name": "stdout",
     "output_type": "stream",
     "text": [
      "Результуючі ваги:\n",
      " W1:\n",
      " [[-2.08762132e-01 -2.27656437e-01 -3.61113814e-01]\n",
      " [-1.95963185e-04 -2.62857511e-02  1.69954542e-01]\n",
      " [ 1.60562058e-01  7.05839009e-02  1.06006176e-01]] \n",
      "W2:\n",
      " [[-0.44937669  0.19702006]\n",
      " [ 0.29572616 -0.17991193]\n",
      " [ 0.34795015 -0.23588253]] \n",
      "W3:\n",
      " [[ 0.13706186]\n",
      " [-0.0956959 ]]\n"
     ]
    }
   ],
   "source": [
    "n = 3  # Кількість входів\n",
    "h1 = 3  # Кількість нейронів у першому прихованому шарі\n",
    "h2 = 2  # Кількість нейронів у другому прихованому шарі\n",
    "m = 1   # Кількість виходів\n",
    "\n",
    "weight_1 = np.random.rand(n, h1) - 0.5\n",
    "weight_2 = np.random.rand(h1, h2) - 0.5\n",
    "weight_3 = np.random.rand(h2, m) - 0.5\n",
    "\n",
    "print(\"\\nПочаткові ваги:\\n W1:\\n\", weight_1, \"\\nW2:\\n\", weight_2, \"\\nW3:\\n\", weight_3)\n",
    "\n",
    "x_train = np.array([\n",
    "    [0.15, 0.54, 0.45],\n",
    "    [0.32, 0.55, 0.7],\n",
    "    [0.15, 0.03, 0.75]\n",
    "])\n",
    "\n",
    "y_train = np.array([\n",
    "    [0.32],\n",
    "    [0.7],\n",
    "    [0.5]\n",
    "])\n",
    "\n",
    "lr = 0.25\n",
    "epoch = 2000\n",
    "\n",
    "tr_w1, tr_w2, tr_w3 = backforward(x_train, y_train, weight_1, weight_2, weight_3, epoch, lr)\n",
    "\n",
    "print(\"Результуючі ваги:\\n W1:\\n\", tr_w1, \"\\nW2:\\n\", tr_w2, \"\\nW3:\\n\", tr_w3)"
   ]
  },
  {
   "cell_type": "code",
   "execution_count": 49,
   "id": "419310b1-d347-46c7-9837-671694fd4a20",
   "metadata": {},
   "outputs": [
    {
     "name": "stdout",
     "output_type": "stream",
     "text": [
      "Різниця між цільовими та отриманими виходами\n",
      "Цільові виходи:\n",
      " [[0.32]\n",
      " [0.7 ]\n",
      " [0.5 ]]\n",
      "\n",
      "Отримані виходи:\n",
      " [[0.50668276]\n",
      " [0.50662146]\n",
      " [0.5065934 ]]\n"
     ]
    }
   ],
   "source": [
    "print(\"Різниця між цільовими та отриманими виходами\")\n",
    "print(\"Цільові виходи:\\n\", y_train)\n",
    "print(\"\\nОтримані виходи:\\n\", forward(x_train, tr_w1, tr_w2, tr_w3)[2])"
   ]
  },
  {
   "cell_type": "code",
   "execution_count": null,
   "id": "2208c72e-813e-4d50-8855-f401ead40aff",
   "metadata": {},
   "outputs": [],
   "source": []
  }
 ],
 "metadata": {
  "kernelspec": {
   "display_name": "Python 3 (ipykernel)",
   "language": "python",
   "name": "python3"
  },
  "language_info": {
   "codemirror_mode": {
    "name": "ipython",
    "version": 3
   },
   "file_extension": ".py",
   "mimetype": "text/x-python",
   "name": "python",
   "nbconvert_exporter": "python",
   "pygments_lexer": "ipython3",
   "version": "3.12.4"
  }
 },
 "nbformat": 4,
 "nbformat_minor": 5
}
